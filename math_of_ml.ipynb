{
 "cells": [
  {
   "cell_type": "markdown",
   "metadata": {},
   "source": [
    "# _The Math of Machine Learning_"
   ]
  },
  {
   "cell_type": "markdown",
   "metadata": {},
   "source": [
    "## Introduction\n",
    "\n",
    "Hey!\n",
    "\n",
    "You must have heard of the term Machine Learning generating a lot of hype these days. \n",
    "\n",
    "What do you think it really is? \n",
    "\n",
    "What do you think you would do as an \"ML Expert\"?\n",
    "\n",
    "<center><img src='img/meme1.png'><figcaption>We sincerely hope not this...</figcaption></figure></center>\n",
    "\n",
    "Let us begin with a simple definition of a Machine Learning Algorithm -\n",
    "<br>\n",
    "<br>\n",
    "<center>A computer program is said to learn from experience $E$ with respect to some class of tasks $T$ <br>and performance measure $P$ if its performance at tasks in $T$, as measured by $P$, improves with experience $E$ </center>\n",
    "\n",
    "For example, consider a program written to play the game of chess. \n",
    "\n",
    "- What is the Experience ($E$)?\n",
    "- What is the Task ($T$)?\n",
    "- What is the Performance Improvement ($P$)?"
   ]
  },
  {
   "cell_type": "markdown",
   "metadata": {},
   "source": [
    "## Machine Learning 101\n",
    "\n",
    "Now, lets try to model a machine learning problem and figure out what steps we require.\n",
    "\n",
    "1. Consider this - You are supposed to decide whether the next Salman Khan film would earn over 200 crores.\n",
    "\n",
    "    - What is the __first thing__ that you would need to decide this? (Think of the previous example of the chess game) {Data}\n",
    "\n",
    "    - After you get the movies, what is the __first__ thing that you will check? (PS - Ground Truth) {Whether the movie income is given}\n",
    "\n",
    "2. Suppose now, you're given a set of posters of various films and you need to differentiate one poster from others on the basis of the actor starring in them, but you do not know the number or the identity of the actors.\n",
    "\n",
    "    - How would you then go about the problem? {Unsupervised Learning - No labelling}\n",
    "    \n",
    "    \n",
    "You can see some examples from here - https://archive.ics.uci.edu/ml/datasets.html\n",
    "    \n",
    "    \n",
    "In Machine Learning, whatever data that you are given is separated is divided into two parts.\n",
    "- Training Data\n",
    "- Test Data\n",
    "\n",
    "The division is mostly 60% - 40% or 70% - 30% of the whole data, depending upon various cases. \n",
    "<br>\n",
    "\n",
    "\n",
    "<center><img src='img/flowchart.png'><figcaption>A concise idea you might have got so far</figcaption></figure></center>\n"
   ]
  },
  {
   "cell_type": "markdown",
   "metadata": {},
   "source": [
    "## Lets jump into the Math\n",
    "\n",
    "\n",
    "\n",
    "<center><img src='img/math.png'><figcaption>A basic distribution</figcaption></figure></center>\n",
    "\n",
    "It is surprising to see that there are many Machine Developers today who don't know the importance of mathematics in Machine Learning. At the other end of the spectrum, it is also suprprising to see people generating hype over the fact that the mathematics of ML is actually very tough. \n",
    "\n",
    "Here we will deal with a few basic algorithms of Machine Learning ans show you how with a little beyond high-school mathematics, you can apply them to problems on your own!"
   ]
  },
  {
   "cell_type": "markdown",
   "metadata": {},
   "source": [
    "### Linear Regression\n",
    "\n",
    "Remember the problem of predicting the total grossings of the next Salman Khan movie? \n",
    "\n",
    "Try and think about the following questions:\n",
    "\n",
    "- What are the factors that you would have to consider while predicting the grossings of a movie?\n",
    "- Once you have decided this, think, what would be your hypothesis?\n",
    "- Mathematically, could you form a relation between all these parameters and the price?\n",
    "\n",
    "What you just did up there was solve a problem using __Linear Regression__!\n",
    "\n",
    "#### Linear Regression in pictures\n",
    "\n",
    "\n",
    "\n",
    "\n",
    "#### Linear Regression: The math under the hood\n",
    "\n",
    "Let us take a mathematical look at this algorithm. For starters, as we discussed above we could use a linear relation to show the relationship between our __target values__ or the _net grossings_ and our selected __parameters__ or the _critic's ratings_. \n",
    "\n",
    "Let us define our hypothesis function as follows:\n",
    "\n",
    "$$ h_\\theta(x) = \\theta_0 + \\theta_1x $$\n",
    "<br>\n",
    "where $\\theta_0 = 1$ __(why?)__ and $x$ is the critics' rating. $h_\\theta(x)$ represents your hypothesis function that you will be using to predict the grossings of the next movie.\n",
    "\n",
    "- Q. But how do you judge if your predictions are right?\n",
    "    - Enter the __Cost function__ !\n",
    "    \n",
    "Never heard of it before? No worries!\n",
    "\n",
    "Imagine your computer charges you for the extent of the mistake that you make. The cost of each mistake is calculated by what is known as our old trusty ___cost function___!\n",
    "\n",
    "Here is an example cost function:\n",
    "\n",
    "$$ J(\\theta) = h_\\theta(x) - y $$\n",
    "\n"
   ]
  },
  {
   "cell_type": "code",
   "execution_count": null,
   "metadata": {
    "collapsed": true
   },
   "outputs": [],
   "source": []
  }
 ],
 "metadata": {
  "kernelspec": {
   "display_name": "Python 3",
   "language": "python",
   "name": "python3"
  },
  "language_info": {
   "codemirror_mode": {
    "name": "ipython",
    "version": 3
   },
   "file_extension": ".py",
   "mimetype": "text/x-python",
   "name": "python",
   "nbconvert_exporter": "python",
   "pygments_lexer": "ipython3",
   "version": "3.6.4"
  }
 },
 "nbformat": 4,
 "nbformat_minor": 2
}
