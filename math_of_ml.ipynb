{
 "cells": [
  {
   "cell_type": "markdown",
   "metadata": {},
   "source": [
    "# _The Math of Machine Learning_"
   ]
  },
  {
   "cell_type": "markdown",
   "metadata": {},
   "source": [
    "## Introduction\n",
    "\n",
    "Hey!\n",
    "\n",
    "You must have heard of the term Machine Learning generating a lot of hype these days. \n",
    "\n",
    "What do you think it really is? \n",
    "\n",
    "What do you think you would do as an \"ML Expert\"?\n",
    "\n",
    "![We sincerely hope not this](img/meme1.png)\n",
    "\n",
    "Let us begin with a simple definition of a Machine Learning Algorithm -\n",
    "<br>\n",
    "<br>\n",
    "<center>A computer program is said to learn from experience $E$ with respect to some class of tasks $T$ <br>and performance measure $P$ if its performance at tasks in $T$, as measured by $P$, improves with experience $E$ </center>\n",
    "\n",
    "For example, consider a program written to play the game of chess. \n",
    "\n",
    "- What is the Experience ($E$)?\n",
    "- What is the Task ($T$)?\n",
    "- What is the Performance Improvement ($P$)?"
   ]
  },
  {
   "cell_type": "markdown",
   "metadata": {},
   "source": [
    "## Machine Learning 101\n",
    "\n",
    "Now, lets try to model a machine learning problem and figure out what steps we require.\n",
    "\n",
    "1. Consider this - You are supposed to decide whether the next Salman Khan film would earn over 200 crores.\n",
    "\n",
    "    - What is the __first thing__ that you would need to decide this? (Think of the previous example of the chess game) {Data}\n",
    "\n",
    "    - After you get the movies, what is the __first__ thing that you will check? (PS - Ground Truth) {Whether the movie income is given}\n",
    "\n",
    "2. Suppose now, you're given a set of posters of various films and you need to differentiate one poster from others on the basis of the actor starring in them, but you do not know the number or the identity of the actors.\n",
    "\n",
    "    - How would you then go about the problem? {Unsupervised Learning - No labelling}\n",
    "    \n",
    "    \n",
    "You can see some examples from here - https://archive.ics.uci.edu/ml/datasets.html\n",
    "    \n",
    "    \n",
    "In Machine Learning, whatever data that you are given is separated is divided into two parts.\n",
    "- Training Data\n",
    "- Test Data\n",
    "\n",
    "The division is mostly 60% - 40% or 70% - 30% of the whole data, depending upon various cases. \n",
    "<br>\n",
    "\n",
    "\n",
    "<center><img src='img/flowchart.png'><figcaption>A concise idea you might have got so far</figcaption></figure></center>\n"
   ]
  },
  {
   "cell_type": "markdown",
   "metadata": {},
   "source": [
    "## Lets jump into the Math\n",
    "\n",
    "\n",
    "\n",
    "<center><img src='img/math.png'><figcaption>A basic distribution</figcaption></figure></center>\n"
   ]
  },
  {
   "cell_type": "code",
   "execution_count": null,
   "metadata": {
    "collapsed": true
   },
   "outputs": [],
   "source": []
  }
 ],
 "metadata": {
  "kernelspec": {
   "display_name": "Python 2",
   "language": "python",
   "name": "python2"
  },
  "language_info": {
   "codemirror_mode": {
    "name": "ipython",
    "version": 2
   },
   "file_extension": ".py",
   "mimetype": "text/x-python",
   "name": "python",
   "nbconvert_exporter": "python",
   "pygments_lexer": "ipython2",
   "version": "2.7.14"
  }
 },
 "nbformat": 4,
 "nbformat_minor": 2
}
